{
 "cells": [
  {
   "cell_type": "code",
   "execution_count": null,
   "id": "1b357ee0-fac5-4f61-921e-2878a8f87cb7",
   "metadata": {},
   "outputs": [],
   "source": [
    "# Implementation of different ML models\n",
    "# Random Forest (supervised)\n",
    "# Gradient boosting - XGBoost Clasifier (supervised)\n",
    "# Linear SVC (supervised)\n",
    "# Logistic Regression (supervised)"
   ]
  },
  {
   "cell_type": "code",
   "execution_count": null,
   "id": "cd3b2083-790b-43f5-91ab-c5832b9da7f5",
   "metadata": {},
   "outputs": [],
   "source": [
    "import pandas as pd\n",
    "import numpy as np\n",
    "from sklearn.model_selection import train_test_split\n",
    "from sklearn.ensemble import RandomForestClassifier\n",
    "from sklearn.metrics import accuracy_score, classification_report, confusion_matrix\n",
    "import xgboost as xgb\n",
    "\n",
    "from sklearn.svm import LinearSVC\n",
    "from sklearn.preprocessing import StandardScaler\n",
    "from sklearn.pipeline import make_pipeline\n",
    "\n",
    "from sklearn.linear_model import LogisticRegression"
   ]
  },
  {
   "cell_type": "code",
   "execution_count": null,
   "id": "010a81e2-b391-4510-9c10-e7318e8299d3",
   "metadata": {},
   "outputs": [],
   "source": [
    "# Load data from CSV file\n",
    "dataset = pd.read_csv(\"creditcard_dataset.csv\")"
   ]
  },
  {
   "cell_type": "code",
   "execution_count": null,
   "id": "0e0fb6fe-755f-4d1d-b8c5-7de136ead3ce",
   "metadata": {},
   "outputs": [],
   "source": [
    "# Set preparation by divide to features (X) and labels (y)\n",
    "X = dataset.drop(columns=[\"Class\"])  # Remove 'Class' column\n",
    "y = dataset[\"Class\"]  # Extract 'Class' column"
   ]
  },
  {
   "cell_type": "code",
   "execution_count": null,
   "id": "b5106417-50ee-44f7-9d4f-fa8cda3729f0",
   "metadata": {},
   "outputs": [],
   "source": [
    "# Splitting data for training and testing\n",
    "X_train, X_test, y_train, y_test = train_test_split(X, y, test_size=0.2, stratify=y, random_state=42)"
   ]
  },
  {
   "cell_type": "code",
   "execution_count": null,
   "id": "c3937b0c-f047-4340-be58-2ecc62eb3ea8",
   "metadata": {},
   "outputs": [],
   "source": [
    "# ML MODELS #"
   ]
  },
  {
   "cell_type": "code",
   "execution_count": null,
   "id": "d60be7f3-9660-4e5b-8690-e5c7afc7c1bc",
   "metadata": {},
   "outputs": [],
   "source": [
    "# RANDOM FOREST\n",
    "# Initialize and train a Random Forest model\n",
    "model_RF = RandomForestClassifier(n_estimators=100, random_state=42)  # Możesz dostosować liczbę drzew\n",
    "model_RF.fit(X_train, y_train)\n",
    "\n",
    "# Prediction on test set\n",
    "y_pred_RF = model_RF.predict(X_test)\n",
    "\n",
    "# Model evaluation\n",
    "accuracy_RF = accuracy_score(y_test, y_pred_RF)\n",
    "print(f\"Model accuracy: {accuracy_RF:.4f}\")\n",
    "\n",
    "# Display classification report\n",
    "print(\"\\nClassification report:\")\n",
    "print(classification_report(y_test, y_pred_RF))\n",
    "print(\"Confusion Matrix:\\n\", confusion_matrix(y_test, y_pred_RF))"
   ]
  },
  {
   "cell_type": "code",
   "execution_count": null,
   "id": "d953c921-e895-4855-96e8-a486252d947c",
   "metadata": {},
   "outputs": [],
   "source": [
    "# XGBoost Classifier\n",
    "# # Initialize and train a XGBoost Classifier modl\n",
    "model_XGB = xgb.XGBClassifier(n_estimators=100, max_depth=6, learning_rate=0.1, subsample=0.8, colsample_bytree=0.8, random_state=42)\n",
    "\n",
    "# Train the model\n",
    "model_XGB.fit(X_train, y_train)\n",
    "\n",
    "# Make predictions\n",
    "y_pred_XGB = model_XGB.predict(X_test)\n",
    "\n",
    "# Evaluate performance\n",
    "accuracy_XGB  = accuracy_score(y_test, y_pred_XGB)\n",
    "print(f\"Model Accuracy:: {accuracy_XGB:.4f}\")\n",
    "print(\"\\nRaport klasyfikacji:\")\n",
    "print(classification_report(y_test, y_pred_XGB))\n",
    "print(\"Confusion Matrix:\\n\", confusion_matrix(y_test, y_pred_XGB))"
   ]
  },
  {
   "cell_type": "code",
   "execution_count": null,
   "id": "70fbf5e8-7259-4cc9-abe1-3305e55f7e9a",
   "metadata": {},
   "outputs": [],
   "source": [
    "# Linear SVC\n",
    "# Scale features for better performance (important for SVM)\n",
    "scaler = StandardScaler()\n",
    "\n",
    "# Initialize the Linear SVC model\n",
    "model_Lsvc = make_pipeline(scaler, LinearSVC(C=1.0, max_iter=1000, random_state=42))\n",
    "\n",
    "# Train the model\n",
    "model_Lsvc.fit(X_train, y_train)\n",
    "\n",
    "# Make predictions\n",
    "y_pred_Lsvc = model_Lsvc.predict(X_test)\n",
    "\n",
    "# Evaluate performance\n",
    "accuracy_Lsvc = accuracy_score(y_test, y_pred_Lsvc)\n",
    "print(f\"Model Accuracy: {accuracy_Lsvc:.2f}\")\n",
    "print(\"Classification Report:\\n\", classification_report(y_test, y_pred_Lsvc))\n",
    "print(\"Confusion Matrix:\\n\", confusion_matrix(y_test, y_pred_Lsvc))"
   ]
  },
  {
   "cell_type": "code",
   "execution_count": null,
   "id": "f794aa9e-10b6-404a-b828-c603ac647b23",
   "metadata": {},
   "outputs": [],
   "source": [
    "# Logistic Regression\n",
    "# Scale features for better performance\n",
    "scaler = StandardScaler()\n",
    "\n",
    "# Initialize Logistic Regression model\n",
    "model_LR = make_pipeline(scaler, LogisticRegression(solver=\"liblinear\", class_weight=\"balanced\", random_state=42))\n",
    "\n",
    "# Train the model\n",
    "model_LR.fit(X_train, y_train)\n",
    "\n",
    "# Make predictions\n",
    "y_pred_LR = model_LR.predict(X_test)\n",
    "\n",
    "# Evaluate performance\n",
    "accuracy_LR = accuracy_score(y_test, y_pred_LR)\n",
    "print(f\"Model Accuracy: {accuracy_LR:.2f}\")\n",
    "print(\"Classification Report:\\n\", classification_report(y_test, y_pred_LR))\n",
    "print(\"Confusion Matrix:\\n\", confusion_matrix(y_test, y_pred_LR))"
   ]
  },
  {
   "cell_type": "code",
   "execution_count": null,
   "id": "e80aa3be-4f5c-43bb-b8b7-1794ce0161a2",
   "metadata": {},
   "outputs": [],
   "source": []
  }
 ],
 "metadata": {
  "kernelspec": {
   "display_name": "Python 3 (ipykernel)",
   "language": "python",
   "name": "python3"
  },
  "language_info": {
   "codemirror_mode": {
    "name": "ipython",
    "version": 3
   },
   "file_extension": ".py",
   "mimetype": "text/x-python",
   "name": "python",
   "nbconvert_exporter": "python",
   "pygments_lexer": "ipython3",
   "version": "3.12.3"
  }
 },
 "nbformat": 4,
 "nbformat_minor": 5
}
