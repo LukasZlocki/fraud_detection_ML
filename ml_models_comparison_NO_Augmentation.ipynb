{
 "cells": [
  {
   "cell_type": "code",
   "execution_count": 2,
   "id": "8ce478a7-2836-47bf-8a74-e0387b20eceb",
   "metadata": {},
   "outputs": [],
   "source": [
    "# ==========================================\n",
    "# EXPERIMENT stage 2 – Test models no data augmentation\n",
    "# ==========================================\n",
    "\n",
    "import pandas as pd\n",
    "from sklearn.model_selection import train_test_split\n",
    "from sklearn.metrics import classification_report, confusion_matrix\n",
    "from collections import Counter\n",
    "\n",
    "# MODELS\n",
    "from sklearn.ensemble import RandomForestClassifier\n",
    "from xgboost import XGBClassifier\n",
    "from sklearn.linear_model import LogisticRegression\n",
    "from sklearn.svm import LinearSVC"
   ]
  },
  {
   "cell_type": "code",
   "execution_count": 3,
   "id": "25f98189-f17e-4138-9f3e-ee650b6dd6be",
   "metadata": {},
   "outputs": [
    {
     "name": "stdout",
     "output_type": "stream",
     "text": [
      "Rozkład klas oryginalny: Counter({0: 284315, 1: 492})\n"
     ]
    }
   ],
   "source": [
    "# Load data from CSV file\n",
    "df = pd.read_csv(\"creditcard_dataset.csv\")\n",
    "print(\"Rozkład klas oryginalny:\", Counter(df['Class']))"
   ]
  },
  {
   "cell_type": "code",
   "execution_count": 4,
   "id": "c3bceea8-fefd-4d60-91e8-5ac14192d8e2",
   "metadata": {},
   "outputs": [],
   "source": [
    "# Data separation to features and labels\n",
    "X = df.drop('Class', axis=1)\n",
    "y = df['Class']"
   ]
  },
  {
   "cell_type": "code",
   "execution_count": 5,
   "id": "a040be29-4df5-4ab6-a257-524a792ecbb1",
   "metadata": {},
   "outputs": [
    {
     "name": "stdout",
     "output_type": "stream",
     "text": [
      "Rozkład klas w zbiorze treningowym: Counter({0: 227451, 1: 394})\n"
     ]
    }
   ],
   "source": [
    "# Splitting data for training and testing\n",
    "X_train, X_test, y_train, y_test = train_test_split(X, y, test_size=0.2, random_state=42, stratify=y)\n",
    "\n",
    "print(\"Rozkład klas w zbiorze treningowym:\", Counter(y_train))"
   ]
  },
  {
   "cell_type": "code",
   "execution_count": 6,
   "id": "84b37b02-b7c0-4e7d-a867-7ff96544feab",
   "metadata": {},
   "outputs": [],
   "source": [
    "# Models definition\n",
    "models = {\n",
    "    \"Random Forest\": RandomForestClassifier(n_estimators=100, random_state=42),\n",
    "    \"XGBoost\": XGBClassifier(eval_metric='logloss', random_state=42),\n",
    "    \"Logistic Regression\": LogisticRegression(max_iter=5000, class_weight='balanced', random_state=42),\n",
    "    \"Linear SVC\": LinearSVC(class_weight='balanced', max_iter=2000, random_state=42)\n",
    "}"
   ]
  },
  {
   "cell_type": "code",
   "execution_count": null,
   "id": "b0d588b9-6200-4004-aa14-55ea90c7344b",
   "metadata": {},
   "outputs": [
    {
     "name": "stdout",
     "output_type": "stream",
     "text": [
      "\n",
      "Model: Random Forest\n"
     ]
    }
   ],
   "source": [
    "# Training and model validation after SMOTE\n",
    "results = {}\n",
    "\n",
    "for name, model in models.items():\n",
    "    print(f\"\\nModel: {name}\")\n",
    "    model.fit(X_train, y_train)\n",
    "    y_pred = model.predict(X_test)\n",
    "\n",
    "    print(f\"=== Results for model {name} ===\")\n",
    "    print(confusion_matrix(y_test, y_pred))\n",
    "    report = classification_report(y_test, y_pred, target_names=[\"Correct\", \"Frauds\"])\n",
    "    print(report)\n",
    "    \n",
    "    results[name] = report"
   ]
  },
  {
   "cell_type": "code",
   "execution_count": null,
   "id": "2c8c418e-b05b-4e9d-a9c2-e4ced172b31f",
   "metadata": {},
   "outputs": [],
   "source": [
    "# Saving results to file\n",
    "with open(\"results_no_augmentation.txt\", \"w\", encoding=\"utf-8\") as f:\n",
    "    for name, report in results.items():\n",
    "        f.write(f\"\\n=== {name} ===\\n\")\n",
    "        f.write(report)\n",
    "        f.write(\"\\n\" + \"=\"*60 + \"\\n\")\n",
    "\n",
    "print(\"\\n Experiment WITHOUT data augmentation finished - see results_no_augmentation.txt\")"
   ]
  }
 ],
 "metadata": {
  "kernelspec": {
   "display_name": "Python 3 (ipykernel)",
   "language": "python",
   "name": "python3"
  },
  "language_info": {
   "codemirror_mode": {
    "name": "ipython",
    "version": 3
   },
   "file_extension": ".py",
   "mimetype": "text/x-python",
   "name": "python",
   "nbconvert_exporter": "python",
   "pygments_lexer": "ipython3",
   "version": "3.10.5"
  }
 },
 "nbformat": 4,
 "nbformat_minor": 5
}
