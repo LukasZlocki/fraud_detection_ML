{
 "cells": [
  {
   "cell_type": "code",
   "execution_count": 21,
   "id": "8ce478a7-2836-47bf-8a74-e0387b20eceb",
   "metadata": {},
   "outputs": [],
   "source": [
    "# ==========================================\n",
    "# EXPERIMENT stage 2 – Test models no data augmentation\n",
    "# ==========================================\n",
    "\n",
    "import pandas as pd\n",
    "from sklearn.model_selection import train_test_split\n",
    "from sklearn.metrics import classification_report, confusion_matrix\n",
    "from imblearn.over_sampling import SMOTE\n",
    "from collections import Counter\n",
    "\n",
    "# MODELS\n",
    "from sklearn.ensemble import RandomForestClassifier\n",
    "from xgboost import XGBClassifier\n",
    "from sklearn.linear_model import LogisticRegression\n",
    "from sklearn.svm import LinearSVC"
   ]
  },
  {
   "cell_type": "code",
   "execution_count": 22,
   "id": "25f98189-f17e-4138-9f3e-ee650b6dd6be",
   "metadata": {},
   "outputs": [
    {
     "name": "stdout",
     "output_type": "stream",
     "text": [
      "Rozkład klas oryginalny: Counter({0: 284315, 1: 492})\n"
     ]
    }
   ],
   "source": [
    "# Load data from CSV file\n",
    "df = pd.read_csv(\"creditcard_dataset.csv\")\n",
    "print(\"Rozkład klas oryginalny:\", Counter(df['Class']))"
   ]
  },
  {
   "cell_type": "code",
   "execution_count": 23,
   "id": "c3bceea8-fefd-4d60-91e8-5ac14192d8e2",
   "metadata": {},
   "outputs": [],
   "source": [
    "# Data separation to features and labels\n",
    "X = df.drop('Class', axis=1)\n",
    "y = df['Class']"
   ]
  },
  {
   "cell_type": "code",
   "execution_count": 24,
   "id": "a040be29-4df5-4ab6-a257-524a792ecbb1",
   "metadata": {},
   "outputs": [
    {
     "name": "stdout",
     "output_type": "stream",
     "text": [
      "Rozkład klas w zbiorze treningowym: Counter({0: 227451, 1: 394})\n"
     ]
    }
   ],
   "source": [
    "# Splitting data for training and testing\n",
    "X_train, X_test, y_train, y_test = train_test_split(X, y, test_size=0.2, random_state=42, stratify=y)\n",
    "\n",
    "print(\"Rozkład klas w zbiorze treningowym:\", Counter(y_train))"
   ]
  },
  {
   "cell_type": "code",
   "execution_count": 25,
   "id": "84b37b02-b7c0-4e7d-a867-7ff96544feab",
   "metadata": {},
   "outputs": [],
   "source": [
    "# Models definition\n",
    "models = {\n",
    "    \"Random Forest\": RandomForestClassifier(n_estimators=100, random_state=42),\n",
    "    \"XGBoost\": XGBClassifier(eval_metric='logloss', random_state=42),\n",
    "    \"Logistic Regression\": LogisticRegression(max_iter=5000, class_weight='balanced', random_state=42),\n",
    "    \"Linear SVC\": LinearSVC(class_weight='balanced', max_iter=2000, random_state=42)\n",
    "}"
   ]
  },
  {
   "cell_type": "code",
   "execution_count": 26,
   "id": "b0d588b9-6200-4004-aa14-55ea90c7344b",
   "metadata": {},
   "outputs": [
    {
     "name": "stdout",
     "output_type": "stream",
     "text": [
      "\n",
      "Model: Random Forest\n",
      "=== Results for model Random Forest ===\n",
      "[[56859     5]\n",
      " [   18    80]]\n",
      "              precision    recall  f1-score   support\n",
      "\n",
      "     Correct       1.00      1.00      1.00     56864\n",
      "      Frauds       0.94      0.82      0.87        98\n",
      "\n",
      "    accuracy                           1.00     56962\n",
      "   macro avg       0.97      0.91      0.94     56962\n",
      "weighted avg       1.00      1.00      1.00     56962\n",
      "\n",
      "\n",
      "Model: XGBoost\n",
      "=== Results for model XGBoost ===\n",
      "[[56852    12]\n",
      " [   20    78]]\n",
      "              precision    recall  f1-score   support\n",
      "\n",
      "     Correct       1.00      1.00      1.00     56864\n",
      "      Frauds       0.87      0.80      0.83        98\n",
      "\n",
      "    accuracy                           1.00     56962\n",
      "   macro avg       0.93      0.90      0.91     56962\n",
      "weighted avg       1.00      1.00      1.00     56962\n",
      "\n",
      "\n",
      "Model: Logistic Regression\n"
     ]
    },
    {
     "name": "stderr",
     "output_type": "stream",
     "text": [
      "C:\\Users\\lzloc\\AppData\\Local\\Programs\\Python\\Python312\\Lib\\site-packages\\sklearn\\linear_model\\_logistic.py:469: ConvergenceWarning: lbfgs failed to converge (status=1):\n",
      "STOP: TOTAL NO. of ITERATIONS REACHED LIMIT.\n",
      "\n",
      "Increase the number of iterations (max_iter) or scale the data as shown in:\n",
      "    https://scikit-learn.org/stable/modules/preprocessing.html\n",
      "Please also refer to the documentation for alternative solver options:\n",
      "    https://scikit-learn.org/stable/modules/linear_model.html#logistic-regression\n",
      "  n_iter_i = _check_optimize_result(\n"
     ]
    },
    {
     "name": "stdout",
     "output_type": "stream",
     "text": [
      "=== Results for model Logistic Regression ===\n",
      "[[55435  1429]\n",
      " [    8    90]]\n",
      "              precision    recall  f1-score   support\n",
      "\n",
      "     Correct       1.00      0.97      0.99     56864\n",
      "      Frauds       0.06      0.92      0.11        98\n",
      "\n",
      "    accuracy                           0.97     56962\n",
      "   macro avg       0.53      0.95      0.55     56962\n",
      "weighted avg       1.00      0.97      0.99     56962\n",
      "\n",
      "\n",
      "Model: Linear SVC\n",
      "=== Results for model Linear SVC ===\n",
      "[[55695  1169]\n",
      " [    8    90]]\n",
      "              precision    recall  f1-score   support\n",
      "\n",
      "     Correct       1.00      0.98      0.99     56864\n",
      "      Frauds       0.07      0.92      0.13        98\n",
      "\n",
      "    accuracy                           0.98     56962\n",
      "   macro avg       0.54      0.95      0.56     56962\n",
      "weighted avg       1.00      0.98      0.99     56962\n",
      "\n"
     ]
    }
   ],
   "source": [
    "# Training and model validation after SMOTE\n",
    "results = {}\n",
    "\n",
    "for name, model in models.items():\n",
    "    print(f\"\\nModel: {name}\")\n",
    "    model.fit(X_train, y_train)\n",
    "    y_pred = model.predict(X_test)\n",
    "\n",
    "    print(f\"=== Results for model {name} ===\")\n",
    "    print(confusion_matrix(y_test, y_pred))\n",
    "    report = classification_report(y_test, y_pred, target_names=[\"Correct\", \"Frauds\"])\n",
    "    print(report)\n",
    "    \n",
    "    results[name] = report"
   ]
  },
  {
   "cell_type": "code",
   "execution_count": 27,
   "id": "2c8c418e-b05b-4e9d-a9c2-e4ced172b31f",
   "metadata": {},
   "outputs": [
    {
     "name": "stdout",
     "output_type": "stream",
     "text": [
      "\n",
      " Experiment WITHOUT data augmentation finished - see results_no_augmentation.txt\n"
     ]
    }
   ],
   "source": [
    "# Saving results to file\n",
    "with open(\"results_no_augmentation.txt\", \"w\", encoding=\"utf-8\") as f:\n",
    "    for name, report in results.items():\n",
    "        f.write(f\"\\n=== {name} ===\\n\")\n",
    "        f.write(report)\n",
    "        f.write(\"\\n\" + \"=\"*60 + \"\\n\")\n",
    "\n",
    "print(\"\\n Experiment WITHOUT data augmentation finished - see results_no_augmentation.txt\")"
   ]
  }
 ],
 "metadata": {
  "kernelspec": {
   "display_name": "Python 3 (ipykernel)",
   "language": "python",
   "name": "python3"
  },
  "language_info": {
   "codemirror_mode": {
    "name": "ipython",
    "version": 3
   },
   "file_extension": ".py",
   "mimetype": "text/x-python",
   "name": "python",
   "nbconvert_exporter": "python",
   "pygments_lexer": "ipython3",
   "version": "3.12.3"
  }
 },
 "nbformat": 4,
 "nbformat_minor": 5
}
